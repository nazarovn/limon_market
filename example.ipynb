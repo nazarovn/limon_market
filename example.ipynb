{
 "cells": [
  {
   "cell_type": "markdown",
   "metadata": {},
   "source": [
    "загружаем необходимые библиотеки и модули"
   ]
  },
  {
   "cell_type": "code",
   "execution_count": 2,
   "metadata": {},
   "outputs": [
    {
     "name": "stderr",
     "output_type": "stream",
     "text": [
      "Using TensorFlow backend.\n"
     ]
    }
   ],
   "source": [
    "import numpy as np\n",
    "import pandas as pd\n",
    "import matplotlib.pyplot as plt\n",
    "%matplotlib inline\n",
    "from tqdm import tqdm_notebook\n",
    "\n",
    "from keras.models import Sequential, Model\n",
    "from keras.layers import Activation, Dense, Dropout, Flatten, Input\n",
    "from keras.optimizers import Adam\n",
    "\n",
    "from bots.modules.awards import get_profit, get_target_q_learning\n",
    "from bots.modules.player import Seller, Customer\n",
    "from bots.modules.game import Game\n",
    "from bots.modules.visualization import calculate_statistic\n",
    "\n",
    "%load_ext autoreload\n",
    "%autoreload 2"
   ]
  },
  {
   "cell_type": "markdown",
   "metadata": {},
   "source": [
    "Функции для создания предсказательных моделей у игроков"
   ]
  },
  {
   "cell_type": "code",
   "execution_count": 3,
   "metadata": {},
   "outputs": [],
   "source": [
    "def create_model(size_input=10, size_hidden=10):\n",
    "    inp = Input(shape=(size_input,))\n",
    "    hidden_1 = Dense(size_hidden, kernel_initializer='normal', activation='relu')(inp)\n",
    "    hidden_2 = Dense(size_hidden, kernel_initializer='normal', activation='relu')(hidden_1)\n",
    "    out = Dense(1, activation='linear')(hidden_2)\n",
    "\n",
    "    model = Model(inputs=inp, outputs=out)\n",
    "    model.compile(loss='mse', optimizer=Adam(lr=0.01), metrics=['mse'])\n",
    "    return model\n",
    "\n",
    "\n",
    "def seller_award(data):\n",
    "    return get_target_q_learning(data, lambda_Q=0.5, weight_delta=0)[:, 0]\n",
    "\n",
    "def customer_award(data):\n",
    "    return get_target_q_learning(data, lambda_Q=0.5, weight_delta=0)[:, 1]"
   ]
  },
  {
   "cell_type": "markdown",
   "metadata": {},
   "source": [
    "Создаём игроков: 2 продавца и 2 покупателя"
   ]
  },
  {
   "cell_type": "code",
   "execution_count": 4,
   "metadata": {},
   "outputs": [],
   "source": [
    "sellers = [\n",
    "    Seller([1.5, 11], create_model(), seller_award, alpha=10),\n",
    "    Seller([1.5, 11], create_model(), seller_award, alpha=10),\n",
    "]\n",
    "customers = [\n",
    "    Customer([0, 1], create_model(), customer_award, alpha=10),\n",
    "    Customer([0, 1], create_model(), customer_award, alpha=10),\n",
    "]\n",
    "\n",
    "game = Game(sellers, customers)"
   ]
  },
  {
   "cell_type": "markdown",
   "metadata": {},
   "source": [
    "# Имитация розыгрышей игры\n",
    "Моделируем 200 раз по 10 игр. После каждых 10 игр дообучаем модели игроков, предсказывающие их ожидаемый выигрыш."
   ]
  },
  {
   "cell_type": "code",
   "execution_count": 5,
   "metadata": {
    "scrolled": true
   },
   "outputs": [
    {
     "data": {
      "application/vnd.jupyter.widget-view+json": {
       "model_id": "7a5bd365f5064c60b181e4aa0d157b01",
       "version_major": 2,
       "version_minor": 0
      },
      "text/plain": [
       "HBox(children=(IntProgress(value=0, max=200), HTML(value='')))"
      ]
     },
     "metadata": {},
     "output_type": "display_data"
    },
    {
     "name": "stdout",
     "output_type": "stream",
     "text": [
      "\n"
     ]
    }
   ],
   "source": [
    "for _ in tqdm_notebook(range(200)):\n",
    "    game.run(10, 10)"
   ]
  },
  {
   "cell_type": "markdown",
   "metadata": {},
   "source": [
    "# Считаем статистики по полученным данным"
   ]
  },
  {
   "cell_type": "markdown",
   "metadata": {},
   "source": [
    "Вот так можно посмотреть произвольный розыгрыш игры. На примере ниже показана последняя игра. <br/>\n",
    "1 столбец - номер итерации, 2 - номер продавца, 3 - номер покупателя, 4 - тип автомобиля, 5 - цена, 6 - решение покупателя."
   ]
  },
  {
   "cell_type": "code",
   "execution_count": 12,
   "metadata": {},
   "outputs": [
    {
     "data": {
      "text/plain": [
       "array([[ 0. ,  0. ,  0. ,  1. , 11. ,  0. ],\n",
       "       [ 0. ,  1. ,  1. ,  1. , 11. ,  0. ],\n",
       "       [ 1. ,  0. ,  0. ,  1. , 11. ,  0. ],\n",
       "       [ 1. ,  1. ,  1. ,  1. , 11. ,  0. ],\n",
       "       [ 2. ,  0. ,  0. ,  1. , 11. ,  0. ],\n",
       "       [ 2. ,  1. ,  1. ,  0. , 11. ,  0. ],\n",
       "       [ 3. ,  0. ,  0. ,  1. , 11. ,  0. ],\n",
       "       [ 3. ,  1. ,  1. ,  0. , 11. ,  0. ],\n",
       "       [ 4. ,  0. ,  0. ,  1. , 11. ,  0. ],\n",
       "       [ 4. ,  1. ,  1. ,  0. , 11. ,  0. ],\n",
       "       [ 5. ,  0. ,  0. ,  1. , 11. ,  0. ],\n",
       "       [ 5. ,  1. ,  1. ,  1. , 11. ,  0. ],\n",
       "       [ 6. ,  0. ,  0. ,  0. ,  1.5,  0. ],\n",
       "       [ 6. ,  1. ,  1. ,  0. , 11. ,  0. ],\n",
       "       [ 7. ,  0. ,  0. ,  1. , 11. ,  1. ],\n",
       "       [ 7. ,  1. ,  1. ,  0. , 11. ,  1. ],\n",
       "       [ 8. ,  0. ,  0. ,  1. , 11. ,  0. ],\n",
       "       [ 8. ,  1. ,  1. ,  0. , 11. ,  0. ],\n",
       "       [ 9. ,  0. ,  0. ,  1. , 11. ,  1. ],\n",
       "       [ 9. ,  1. ,  1. ,  1. , 11. ,  0. ],\n",
       "       [10. ,  0. ,  0. ,  1. , 11. ,  1. ],\n",
       "       [10. ,  1. ,  1. ,  1. , 11. ,  0. ],\n",
       "       [11. ,  0. ,  0. ,  1. , 11. ,  0. ],\n",
       "       [11. ,  1. ,  1. ,  0. , 11. ,  0. ],\n",
       "       [12. ,  0. ,  0. ,  1. , 11. ,  0. ],\n",
       "       [12. ,  1. ,  1. ,  1. , 11. ,  0. ],\n",
       "       [13. ,  0. ,  0. ,  1. , 11. ,  0. ],\n",
       "       [13. ,  1. ,  1. ,  1. , 11. ,  0. ],\n",
       "       [14. ,  0. ,  0. ,  1. , 11. ,  1. ],\n",
       "       [14. ,  1. ,  1. ,  1. , 11. ,  0. ],\n",
       "       [15. ,  0. ,  0. ,  1. , 11. ,  1. ],\n",
       "       [15. ,  1. ,  1. ,  0. ,  1.5,  0. ],\n",
       "       [16. ,  0. ,  0. ,  0. ,  1.5,  1. ],\n",
       "       [16. ,  1. ,  1. ,  1. , 11. ,  0. ],\n",
       "       [17. ,  0. ,  0. ,  1. , 11. ,  0. ],\n",
       "       [17. ,  1. ,  1. ,  1. , 11. ,  0. ],\n",
       "       [18. ,  0. ,  0. ,  0. , 11. ,  0. ],\n",
       "       [18. ,  1. ,  1. ,  1. , 11. ,  0. ],\n",
       "       [19. ,  0. ,  0. ,  0. ,  1.5,  1. ],\n",
       "       [19. ,  1. ,  1. ,  1. , 11. ,  0. ]])"
      ]
     },
     "execution_count": 12,
     "metadata": {},
     "output_type": "execute_result"
    }
   ],
   "source": [
    "game.data_hist[-1]"
   ]
  },
  {
   "cell_type": "markdown",
   "metadata": {},
   "source": [
    "Функция для вычисления статистик (количество сделок, доверие, честность, выигрыш)"
   ]
  },
  {
   "cell_type": "code",
   "execution_count": 13,
   "metadata": {},
   "outputs": [
    {
     "name": "stderr",
     "output_type": "stream",
     "text": [
      "/home/nnazarov/nni/asp/limon_market/bots/modules/visualization.py:23: RuntimeWarning: Mean of empty slice.\n",
      "  return (data_[:, 1] < 5).mean()\n",
      "/home/nnazarov/.pyenv/versions/3.6.3/envs/shad/lib/python3.6/site-packages/numpy/core/_methods.py:85: RuntimeWarning: invalid value encountered in double_scalars\n",
      "  ret = ret.dtype.type(ret / rcount)\n"
     ]
    }
   ],
   "source": [
    "statistics = calculate_statistic(game.data_hist, len(sellers))"
   ]
  },
  {
   "cell_type": "markdown",
   "metadata": {},
   "source": [
    "Статистика для первого продавца по последним 5 играм."
   ]
  },
  {
   "cell_type": "code",
   "execution_count": 15,
   "metadata": {},
   "outputs": [
    {
     "data": {
      "text/html": [
       "<div>\n",
       "<style scoped>\n",
       "    .dataframe tbody tr th:only-of-type {\n",
       "        vertical-align: middle;\n",
       "    }\n",
       "\n",
       "    .dataframe tbody tr th {\n",
       "        vertical-align: top;\n",
       "    }\n",
       "\n",
       "    .dataframe thead th {\n",
       "        text-align: right;\n",
       "    }\n",
       "</style>\n",
       "<table border=\"1\" class=\"dataframe\">\n",
       "  <thead>\n",
       "    <tr style=\"text-align: right;\">\n",
       "      <th></th>\n",
       "      <th>count_trade</th>\n",
       "      <th>part_honest</th>\n",
       "      <th>part_trust</th>\n",
       "      <th>award</th>\n",
       "    </tr>\n",
       "  </thead>\n",
       "  <tbody>\n",
       "    <tr>\n",
       "      <th>1995</th>\n",
       "      <td>1</td>\n",
       "      <td>1.000000</td>\n",
       "      <td>0.071429</td>\n",
       "      <td>1.0</td>\n",
       "    </tr>\n",
       "    <tr>\n",
       "      <th>1996</th>\n",
       "      <td>6</td>\n",
       "      <td>1.000000</td>\n",
       "      <td>0.142857</td>\n",
       "      <td>4.0</td>\n",
       "    </tr>\n",
       "    <tr>\n",
       "      <th>1997</th>\n",
       "      <td>5</td>\n",
       "      <td>0.666667</td>\n",
       "      <td>0.222222</td>\n",
       "      <td>4.5</td>\n",
       "    </tr>\n",
       "    <tr>\n",
       "      <th>1998</th>\n",
       "      <td>4</td>\n",
       "      <td>0.571429</td>\n",
       "      <td>0.250000</td>\n",
       "      <td>13.0</td>\n",
       "    </tr>\n",
       "    <tr>\n",
       "      <th>1999</th>\n",
       "      <td>7</td>\n",
       "      <td>0.750000</td>\n",
       "      <td>0.294118</td>\n",
       "      <td>6.0</td>\n",
       "    </tr>\n",
       "  </tbody>\n",
       "</table>\n",
       "</div>"
      ],
      "text/plain": [
       "      count_trade  part_honest  part_trust  award\n",
       "1995            1     1.000000    0.071429    1.0\n",
       "1996            6     1.000000    0.142857    4.0\n",
       "1997            5     0.666667    0.222222    4.5\n",
       "1998            4     0.571429    0.250000   13.0\n",
       "1999            7     0.750000    0.294118    6.0"
      ]
     },
     "execution_count": 15,
     "metadata": {},
     "output_type": "execute_result"
    }
   ],
   "source": [
    "statistics['sellers'][0].tail()"
   ]
  },
  {
   "cell_type": "markdown",
   "metadata": {},
   "source": [
    "Графики честности первого продавца и доверия покупателей, с которыми он играл."
   ]
  },
  {
   "cell_type": "code",
   "execution_count": 19,
   "metadata": {},
   "outputs": [
    {
     "data": {
      "image/png": "[encoded data removed]",
      "text/plain": [
       "<Figure size 1152x288 with 1 Axes>"
      ]
     },
     "metadata": {
      "needs_background": "light"
     },
     "output_type": "display_data"
    }
   ],
   "source": [
    "statistics['sellers'][0][['part_honest', 'part_trust']].rolling(20, min_periods=5).mean().plot(figsize=[16, 4]);"
   ]
  },
  {
   "cell_type": "code",
   "execution_count": null,
   "metadata": {},
   "outputs": [],
   "source": []
  }
 ],
 "metadata": {
  "kernelspec": {
   "display_name": "Python 3",
   "language": "python",
   "name": "python3"
  },
  "language_info": {
   "codemirror_mode": {
    "name": "ipython",
    "version": 3
   },
   "file_extension": ".py",
   "mimetype": "text/x-python",
   "name": "python",
   "nbconvert_exporter": "python",
   "pygments_lexer": "ipython3",
   "version": "3.6.3"
  }
 },
 "nbformat": 4,
 "nbformat_minor": 2
}
